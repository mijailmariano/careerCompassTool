{
 "cells": [
  {
   "cell_type": "code",
   "execution_count": null,
   "metadata": {},
   "outputs": [],
   "source": [
    "# notebook dependencies \n",
    "%matplotlib inline\n",
    "import matplotlib as mlp\n",
    "mlp.rcParams['figure.dpi'] = 300\n",
    "\n",
    "import pandas as pd\n",
    "import numpy as np\n",
    "\n",
    "# visualization imports\n",
    "import matplotlib.pyplot as plt\n",
    "import seaborn as sns\n",
    "sns.set_theme()\n",
    "\n",
    "# acquire ETL functions\n",
    "from acquire import scrape_page, create_wordclouds, top_20_words, create_bigrams"
   ]
  },
  {
   "cell_type": "code",
   "execution_count": null,
   "metadata": {},
   "outputs": [],
   "source": [
    "# step 1: drop linkedin url into scrape function\n",
    "# function will prompt you for LinkedIn job post url \n",
    "# function also creates a Pandas dataframe w/key admin data\n",
    "\n",
    "df = scrape_page()\n",
    "df"
   ]
  },
  {
   "cell_type": "code",
   "execution_count": null,
   "metadata": {},
   "outputs": [],
   "source": [
    "# step 2: generate word cloud of most common words in job description\n",
    "# a note on word clouds - these are a graphical representation where word size corresponds to its frequency or relevance, efficiently revealing key themes in large blocks of text.\n",
    "\n",
    "create_wordclouds(df)"
   ]
  },
  {
   "cell_type": "code",
   "execution_count": null,
   "metadata": {},
   "outputs": [],
   "source": [
    "# step 3: return list of most frequent words and percentage\n",
    "# a note on top 20 words - this metric measures the dominance of the most frequent unique terms in a job description; potentially illustrating the emphasis on specific skills and requirements.\n",
    "\n",
    "top_20_words(df)"
   ]
  },
  {
   "cell_type": "code",
   "execution_count": null,
   "metadata": {},
   "outputs": [],
   "source": [
    "# step 4: return word cloud of most common bigrams\n",
    "# a note on bigrams - these are sequential word pairs extracted from texts that provide deeper insight into language patterns, crucial for understanding contextual relationships.\n",
    "\n",
    "create_bigrams(df)"
   ]
  }
 ],
 "metadata": {
  "kernelspec": {
   "display_name": "base",
   "language": "python",
   "name": "python3"
  },
  "language_info": {
   "codemirror_mode": {
    "name": "ipython",
    "version": 3
   },
   "file_extension": ".py",
   "mimetype": "text/x-python",
   "name": "python",
   "nbconvert_exporter": "python",
   "pygments_lexer": "ipython3",
   "version": "3.9.undefined"
  },
  "orig_nbformat": 4,
  "vscode": {
   "interpreter": {
    "hash": "40d3a090f54c6569ab1632332b64b2c03c39dcf918b08424e98f38b5ae0af88f"
   }
  }
 },
 "nbformat": 4,
 "nbformat_minor": 2
}
